{
 "cells": [
  {
   "cell_type": "code",
   "execution_count": 1,
   "metadata": {},
   "outputs": [],
   "source": [
    "import pandas as pd\n",
    "\n",
    "import matplotlib.pylab as plt\n",
    "import matplotlib.dates as mdates\n",
    "\n",
    "from datetime import datetime\n",
    "\n",
    "import numpy as np\n",
    "\n",
    "import seaborn as sns\n",
    "\n",
    "from dateutil.relativedelta import relativedelta"
   ]
  },
  {
   "cell_type": "code",
   "execution_count": 2,
   "metadata": {},
   "outputs": [],
   "source": [
    "df = pd.read_table('exp_data.txt',sep=',')"
   ]
  },
  {
   "cell_type": "code",
   "execution_count": 3,
   "metadata": {},
   "outputs": [
    {
     "data": {
      "text/html": [
       "<div>\n",
       "<style scoped>\n",
       "    .dataframe tbody tr th:only-of-type {\n",
       "        vertical-align: middle;\n",
       "    }\n",
       "\n",
       "    .dataframe tbody tr th {\n",
       "        vertical-align: top;\n",
       "    }\n",
       "\n",
       "    .dataframe thead th {\n",
       "        text-align: right;\n",
       "    }\n",
       "</style>\n",
       "<table border=\"1\" class=\"dataframe\">\n",
       "  <thead>\n",
       "    <tr style=\"text-align: right;\">\n",
       "      <th></th>\n",
       "      <th>dt</th>\n",
       "      <th>finish_order</th>\n",
       "    </tr>\n",
       "  </thead>\n",
       "  <tbody>\n",
       "    <tr>\n",
       "      <th>0</th>\n",
       "      <td>2019-05-13</td>\n",
       "      <td>15315.7</td>\n",
       "    </tr>\n",
       "    <tr>\n",
       "      <th>1</th>\n",
       "      <td>2019-05-14</td>\n",
       "      <td>15190.4</td>\n",
       "    </tr>\n",
       "    <tr>\n",
       "      <th>2</th>\n",
       "      <td>2019-05-15</td>\n",
       "      <td>15643.4</td>\n",
       "    </tr>\n",
       "    <tr>\n",
       "      <th>3</th>\n",
       "      <td>2019-05-16</td>\n",
       "      <td>17297.0</td>\n",
       "    </tr>\n",
       "    <tr>\n",
       "      <th>4</th>\n",
       "      <td>2019-05-17</td>\n",
       "      <td>18837.5</td>\n",
       "    </tr>\n",
       "  </tbody>\n",
       "</table>\n",
       "</div>"
      ],
      "text/plain": [
       "           dt  finish_order\n",
       "0  2019-05-13       15315.7\n",
       "1  2019-05-14       15190.4\n",
       "2  2019-05-15       15643.4\n",
       "3  2019-05-16       17297.0\n",
       "4  2019-05-17       18837.5"
      ]
     },
     "execution_count": 3,
     "metadata": {},
     "output_type": "execute_result"
    }
   ],
   "source": [
    "df.head()"
   ]
  },
  {
   "cell_type": "markdown",
   "metadata": {},
   "source": [
    "# 同比判断异常值"
   ]
  },
  {
   "cell_type": "code",
   "execution_count": 4,
   "metadata": {},
   "outputs": [
    {
     "data": {
      "text/plain": [
       "datetime.datetime(2019, 5, 6, 0, 0)"
      ]
     },
     "execution_count": 4,
     "metadata": {},
     "output_type": "execute_result"
    }
   ],
   "source": [
    "datetime.strptime(df.dt[0],'%Y-%m-%d') +relativedelta(days=-7)"
   ]
  },
  {
   "cell_type": "code",
   "execution_count": 5,
   "metadata": {},
   "outputs": [],
   "source": [
    "#找到上周同比的日期\n",
    "df['lastweek_day'] = [(datetime.strptime(d,'%Y-%m-%d').date() +relativedelta(days=-7)).strftime('%Y-%m-%d') for d in df.dt]\n",
    "\n",
    "\n"
   ]
  },
  {
   "cell_type": "code",
   "execution_count": 6,
   "metadata": {},
   "outputs": [],
   "source": [
    "df['lastweek_value'] = -1"
   ]
  },
  {
   "cell_type": "code",
   "execution_count": 7,
   "metadata": {},
   "outputs": [],
   "source": [
    "# 找到上周同比的值\n",
    "\n",
    "for day in pd.date_range('2019-05-20','2019-07-03'):\n",
    "    today = day.strftime('%Y-%m-%d')\n",
    "    lastweek = (day-7).strftime('%Y-%m-%d')\n",
    "    df.loc[df.dt==today,'lastweek_value'] = df.loc[df.dt==lastweek,'finish_order'].values\n"
   ]
  },
  {
   "cell_type": "code",
   "execution_count": 8,
   "metadata": {},
   "outputs": [],
   "source": [
    "df['w2w'] = df.finish_order/df.lastweek_value-1"
   ]
  },
  {
   "cell_type": "code",
   "execution_count": 9,
   "metadata": {},
   "outputs": [
    {
     "data": {
      "text/html": [
       "<div>\n",
       "<style scoped>\n",
       "    .dataframe tbody tr th:only-of-type {\n",
       "        vertical-align: middle;\n",
       "    }\n",
       "\n",
       "    .dataframe tbody tr th {\n",
       "        vertical-align: top;\n",
       "    }\n",
       "\n",
       "    .dataframe thead th {\n",
       "        text-align: right;\n",
       "    }\n",
       "</style>\n",
       "<table border=\"1\" class=\"dataframe\">\n",
       "  <thead>\n",
       "    <tr style=\"text-align: right;\">\n",
       "      <th></th>\n",
       "      <th>dt</th>\n",
       "      <th>finish_order</th>\n",
       "      <th>lastweek_day</th>\n",
       "      <th>lastweek_value</th>\n",
       "      <th>w2w</th>\n",
       "    </tr>\n",
       "  </thead>\n",
       "  <tbody>\n",
       "    <tr>\n",
       "      <th>7</th>\n",
       "      <td>2019-05-20</td>\n",
       "      <td>16387.7</td>\n",
       "      <td>2019-05-13</td>\n",
       "      <td>15315.7</td>\n",
       "      <td>0.069994</td>\n",
       "    </tr>\n",
       "    <tr>\n",
       "      <th>8</th>\n",
       "      <td>2019-05-21</td>\n",
       "      <td>16425.1</td>\n",
       "      <td>2019-05-14</td>\n",
       "      <td>15190.4</td>\n",
       "      <td>0.081282</td>\n",
       "    </tr>\n",
       "    <tr>\n",
       "      <th>9</th>\n",
       "      <td>2019-05-22</td>\n",
       "      <td>16234.2</td>\n",
       "      <td>2019-05-15</td>\n",
       "      <td>15643.4</td>\n",
       "      <td>0.037767</td>\n",
       "    </tr>\n",
       "    <tr>\n",
       "      <th>10</th>\n",
       "      <td>2019-05-23</td>\n",
       "      <td>17680.1</td>\n",
       "      <td>2019-05-16</td>\n",
       "      <td>17297.0</td>\n",
       "      <td>0.022148</td>\n",
       "    </tr>\n",
       "    <tr>\n",
       "      <th>11</th>\n",
       "      <td>2019-05-24</td>\n",
       "      <td>17703.3</td>\n",
       "      <td>2019-05-17</td>\n",
       "      <td>18837.5</td>\n",
       "      <td>-0.060210</td>\n",
       "    </tr>\n",
       "  </tbody>\n",
       "</table>\n",
       "</div>"
      ],
      "text/plain": [
       "            dt  finish_order lastweek_day  lastweek_value       w2w\n",
       "7   2019-05-20       16387.7   2019-05-13         15315.7  0.069994\n",
       "8   2019-05-21       16425.1   2019-05-14         15190.4  0.081282\n",
       "9   2019-05-22       16234.2   2019-05-15         15643.4  0.037767\n",
       "10  2019-05-23       17680.1   2019-05-16         17297.0  0.022148\n",
       "11  2019-05-24       17703.3   2019-05-17         18837.5 -0.060210"
      ]
     },
     "execution_count": 9,
     "metadata": {},
     "output_type": "execute_result"
    }
   ],
   "source": [
    "df.loc[df.dt>='2019-05-20'].head()"
   ]
  },
  {
   "cell_type": "code",
   "execution_count": 10,
   "metadata": {},
   "outputs": [
    {
     "data": {
      "image/png": "[encoded data removed]",
      "text/plain": [
       "<Figure size 432x288 with 1 Axes>"
      ]
     },
     "metadata": {
      "needs_background": "light"
     },
     "output_type": "display_data"
    }
   ],
   "source": [
    "xs =  [datetime.strptime(d,'%Y-%m-%d').date() for d in df.dt]\n",
    "zs = df.finish_order\n",
    "\n",
    "plt.gca().xaxis.set_major_formatter(mdates.DateFormatter('%Y-%m-%d'))\n",
    "plt.gca().xaxis.set_major_locator(mdates.DayLocator())\n",
    "# Plot\n",
    "#plt.plot(xs, ys)\n",
    "plt.plot(xs,zs)\n",
    "plt.xticks(pd.date_range('2019-05-13','2019-07-03',freq = '7D'))\n",
    "plt.gcf().autofmt_xdate() # 自动旋转日期标记\n",
    "plt.show()\n"
   ]
  },
  {
   "cell_type": "code",
   "execution_count": 11,
   "metadata": {},
   "outputs": [
    {
     "data": {
      "image/png": "[encoded data removed]",
      "text/plain": [
       "<Figure size 432x288 with 1 Axes>"
      ]
     },
     "metadata": {
      "needs_background": "light"
     },
     "output_type": "display_data"
    }
   ],
   "source": [
    "df2 = df.loc[(df.dt>='2019-05-20')&(df.dt<='2019-06-19')]\n",
    "\n",
    "xs =  [datetime.strptime(d,'%Y-%m-%d').date() for d in df2.dt]\n",
    "zs = df2.finish_order\n",
    "ys = df2.lastweek_value\n",
    "plt.gca().xaxis.set_major_formatter(mdates.DateFormatter('%Y-%m-%d'))\n",
    "plt.gca().xaxis.set_major_locator(mdates.DayLocator())\n",
    "# Plot\n",
    "plt.plot(xs, zs)\n",
    "plt.plot(xs,ys)\n",
    "plt.xticks(pd.date_range('2019-05-20','2019-06-19',freq = '7D'))\n",
    "plt.gcf().autofmt_xdate() # 自动旋转日期标记\n",
    "plt.show()\n"
   ]
  },
  {
   "cell_type": "code",
   "execution_count": null,
   "metadata": {},
   "outputs": [],
   "source": []
  },
  {
   "cell_type": "code",
   "execution_count": 12,
   "metadata": {},
   "outputs": [
    {
     "data": {
      "image/png": "[encoded data removed]",
      "text/plain": [
       "<Figure size 432x288 with 1 Axes>"
      ]
     },
     "metadata": {
      "needs_background": "light"
     },
     "output_type": "display_data"
    }
   ],
   "source": [
    "\n",
    "\n",
    "xs =  [datetime.strptime(d,'%Y-%m-%d').date() for d in df2.dt]\n",
    "zs = df2.w2w\n",
    "plt.gca().xaxis.set_major_formatter(mdates.DateFormatter('%Y-%m-%d'))\n",
    "plt.gca().xaxis.set_major_locator(mdates.DayLocator())\n",
    "# Plot\n",
    "plt.plot(xs, zs,'-')\n",
    "\n",
    "plt.xticks(pd.date_range('2019-05-20','2019-06-19',freq = '7D'))\n",
    "plt.gcf().autofmt_xdate() # 自动旋转日期标记\n",
    "plt.show()\n"
   ]
  },
  {
   "cell_type": "code",
   "execution_count": 13,
   "metadata": {},
   "outputs": [
    {
     "name": "stderr",
     "output_type": "stream",
     "text": [
      "/anaconda3/lib/python3.7/site-packages/ipykernel_launcher.py:3: SettingWithCopyWarning: \n",
      "A value is trying to be set on a copy of a slice from a DataFrame.\n",
      "Try using .loc[row_indexer,col_indexer] = value instead\n",
      "\n",
      "See the caveats in the documentation: http://pandas.pydata.org/pandas-docs/stable/indexing.html#indexing-view-versus-copy\n",
      "  This is separate from the ipykernel package so we can avoid doing imports until\n",
      "/anaconda3/lib/python3.7/site-packages/ipykernel_launcher.py:4: SettingWithCopyWarning: \n",
      "A value is trying to be set on a copy of a slice from a DataFrame.\n",
      "Try using .loc[row_indexer,col_indexer] = value instead\n",
      "\n",
      "See the caveats in the documentation: http://pandas.pydata.org/pandas-docs/stable/indexing.html#indexing-view-versus-copy\n",
      "  after removing the cwd from sys.path.\n"
     ]
    },
    {
     "data": {
      "image/png": "[encoded data removed]",
      "text/plain": [
       "<Figure size 432x288 with 1 Axes>"
      ]
     },
     "metadata": {
      "needs_background": "light"
     },
     "output_type": "display_data"
    }
   ],
   "source": [
    "#添加阈值\n",
    "\n",
    "df2['upper_range'] = 0.1\n",
    "df2['lower_range'] = -0.05\n",
    "\n",
    "xs =  [datetime.strptime(d,'%Y-%m-%d').date() for d in df2.dt]\n",
    "zs = df2.w2w\n",
    "us = df2.upper_range\n",
    "ls = df2.lower_range\n",
    "plt.gca().xaxis.set_major_formatter(mdates.DateFormatter('%Y-%m-%d'))\n",
    "plt.gca().xaxis.set_major_locator(mdates.DayLocator())\n",
    "# Plot\n",
    "plt.plot(xs, zs,'-')\n",
    "plt.plot(xs, us,'r.')\n",
    "plt.plot(xs, ls,'g.')\n",
    "\n",
    "plt.xticks(pd.date_range('2019-05-20','2019-06-19',freq = '7D'))\n",
    "plt.gcf().autofmt_xdate() # 自动旋转日期标记\n",
    "plt.show()\n"
   ]
  },
  {
   "cell_type": "code",
   "execution_count": 14,
   "metadata": {},
   "outputs": [
    {
     "data": {
      "text/plain": [
       "(31, 7)"
      ]
     },
     "execution_count": 14,
     "metadata": {},
     "output_type": "execute_result"
    }
   ],
   "source": [
    "df2.shape\n"
   ]
  },
  {
   "cell_type": "code",
   "execution_count": 15,
   "metadata": {},
   "outputs": [
    {
     "data": {
      "text/plain": [
       "(6, 7)"
      ]
     },
     "execution_count": 15,
     "metadata": {},
     "output_type": "execute_result"
    }
   ],
   "source": [
    "#异常点个数\n",
    "df2.loc[(df2.w2w>0.1)|(df2.w2w<-0.05)].shape"
   ]
  },
  {
   "cell_type": "code",
   "execution_count": 16,
   "metadata": {},
   "outputs": [],
   "source": [
    "df['upper_range'] = 0.1\n",
    "df['lower_range'] = -0.05"
   ]
  },
  {
   "cell_type": "code",
   "execution_count": 17,
   "metadata": {},
   "outputs": [],
   "source": [
    "df['is_abnormal'] = 0"
   ]
  },
  {
   "cell_type": "code",
   "execution_count": 18,
   "metadata": {},
   "outputs": [],
   "source": [
    "df.loc[(df.w2w>=df.upper_range)|(df.w2w<=df.lower_range),'is_abnormal'] = 1"
   ]
  },
  {
   "cell_type": "code",
   "execution_count": 19,
   "metadata": {},
   "outputs": [
    {
     "data": {
      "text/html": [
       "<div>\n",
       "<style scoped>\n",
       "    .dataframe tbody tr th:only-of-type {\n",
       "        vertical-align: middle;\n",
       "    }\n",
       "\n",
       "    .dataframe tbody tr th {\n",
       "        vertical-align: top;\n",
       "    }\n",
       "\n",
       "    .dataframe thead th {\n",
       "        text-align: right;\n",
       "    }\n",
       "</style>\n",
       "<table border=\"1\" class=\"dataframe\">\n",
       "  <thead>\n",
       "    <tr style=\"text-align: right;\">\n",
       "      <th></th>\n",
       "      <th>dt</th>\n",
       "      <th>finish_order</th>\n",
       "      <th>lastweek_day</th>\n",
       "      <th>lastweek_value</th>\n",
       "      <th>w2w</th>\n",
       "      <th>upper_range</th>\n",
       "      <th>lower_range</th>\n",
       "      <th>is_abnormal</th>\n",
       "    </tr>\n",
       "  </thead>\n",
       "  <tbody>\n",
       "    <tr>\n",
       "      <th>38</th>\n",
       "      <td>2019-06-20</td>\n",
       "      <td>20156.1</td>\n",
       "      <td>2019-06-13</td>\n",
       "      <td>19722.1</td>\n",
       "      <td>0.022006</td>\n",
       "      <td>0.1</td>\n",
       "      <td>-0.05</td>\n",
       "      <td>0</td>\n",
       "    </tr>\n",
       "    <tr>\n",
       "      <th>39</th>\n",
       "      <td>2019-06-21</td>\n",
       "      <td>21226.2</td>\n",
       "      <td>2019-06-14</td>\n",
       "      <td>18825.6</td>\n",
       "      <td>0.127518</td>\n",
       "      <td>0.1</td>\n",
       "      <td>-0.05</td>\n",
       "      <td>1</td>\n",
       "    </tr>\n",
       "    <tr>\n",
       "      <th>40</th>\n",
       "      <td>2019-06-22</td>\n",
       "      <td>13526.1</td>\n",
       "      <td>2019-06-15</td>\n",
       "      <td>13063.6</td>\n",
       "      <td>0.035404</td>\n",
       "      <td>0.1</td>\n",
       "      <td>-0.05</td>\n",
       "      <td>0</td>\n",
       "    </tr>\n",
       "    <tr>\n",
       "      <th>41</th>\n",
       "      <td>2019-06-23</td>\n",
       "      <td>12236.4</td>\n",
       "      <td>2019-06-16</td>\n",
       "      <td>12083.1</td>\n",
       "      <td>0.012687</td>\n",
       "      <td>0.1</td>\n",
       "      <td>-0.05</td>\n",
       "      <td>0</td>\n",
       "    </tr>\n",
       "    <tr>\n",
       "      <th>42</th>\n",
       "      <td>2019-06-24</td>\n",
       "      <td>19129.9</td>\n",
       "      <td>2019-06-17</td>\n",
       "      <td>19051.3</td>\n",
       "      <td>0.004126</td>\n",
       "      <td>0.1</td>\n",
       "      <td>-0.05</td>\n",
       "      <td>0</td>\n",
       "    </tr>\n",
       "    <tr>\n",
       "      <th>43</th>\n",
       "      <td>2019-06-25</td>\n",
       "      <td>18844.7</td>\n",
       "      <td>2019-06-18</td>\n",
       "      <td>19698.5</td>\n",
       "      <td>-0.043343</td>\n",
       "      <td>0.1</td>\n",
       "      <td>-0.05</td>\n",
       "      <td>0</td>\n",
       "    </tr>\n",
       "    <tr>\n",
       "      <th>44</th>\n",
       "      <td>2019-06-26</td>\n",
       "      <td>19476.0</td>\n",
       "      <td>2019-06-19</td>\n",
       "      <td>19395.9</td>\n",
       "      <td>0.004130</td>\n",
       "      <td>0.1</td>\n",
       "      <td>-0.05</td>\n",
       "      <td>0</td>\n",
       "    </tr>\n",
       "    <tr>\n",
       "      <th>45</th>\n",
       "      <td>2019-06-27</td>\n",
       "      <td>20942.8</td>\n",
       "      <td>2019-06-20</td>\n",
       "      <td>20156.1</td>\n",
       "      <td>0.039030</td>\n",
       "      <td>0.1</td>\n",
       "      <td>-0.05</td>\n",
       "      <td>0</td>\n",
       "    </tr>\n",
       "    <tr>\n",
       "      <th>46</th>\n",
       "      <td>2019-06-28</td>\n",
       "      <td>26443.9</td>\n",
       "      <td>2019-06-21</td>\n",
       "      <td>21226.2</td>\n",
       "      <td>0.245814</td>\n",
       "      <td>0.1</td>\n",
       "      <td>-0.05</td>\n",
       "      <td>1</td>\n",
       "    </tr>\n",
       "    <tr>\n",
       "      <th>47</th>\n",
       "      <td>2019-06-29</td>\n",
       "      <td>13687.8</td>\n",
       "      <td>2019-06-22</td>\n",
       "      <td>13526.1</td>\n",
       "      <td>0.011955</td>\n",
       "      <td>0.1</td>\n",
       "      <td>-0.05</td>\n",
       "      <td>0</td>\n",
       "    </tr>\n",
       "    <tr>\n",
       "      <th>48</th>\n",
       "      <td>2019-06-30</td>\n",
       "      <td>12543.9</td>\n",
       "      <td>2019-06-23</td>\n",
       "      <td>12236.4</td>\n",
       "      <td>0.025130</td>\n",
       "      <td>0.1</td>\n",
       "      <td>-0.05</td>\n",
       "      <td>0</td>\n",
       "    </tr>\n",
       "    <tr>\n",
       "      <th>49</th>\n",
       "      <td>2019-07-01</td>\n",
       "      <td>18030.2</td>\n",
       "      <td>2019-06-24</td>\n",
       "      <td>19129.9</td>\n",
       "      <td>-0.057486</td>\n",
       "      <td>0.1</td>\n",
       "      <td>-0.05</td>\n",
       "      <td>1</td>\n",
       "    </tr>\n",
       "    <tr>\n",
       "      <th>50</th>\n",
       "      <td>2019-07-02</td>\n",
       "      <td>18201.9</td>\n",
       "      <td>2019-06-25</td>\n",
       "      <td>18844.7</td>\n",
       "      <td>-0.034110</td>\n",
       "      <td>0.1</td>\n",
       "      <td>-0.05</td>\n",
       "      <td>0</td>\n",
       "    </tr>\n",
       "    <tr>\n",
       "      <th>51</th>\n",
       "      <td>2019-07-03</td>\n",
       "      <td>19278.2</td>\n",
       "      <td>2019-06-26</td>\n",
       "      <td>19476.0</td>\n",
       "      <td>-0.010156</td>\n",
       "      <td>0.1</td>\n",
       "      <td>-0.05</td>\n",
       "      <td>0</td>\n",
       "    </tr>\n",
       "  </tbody>\n",
       "</table>\n",
       "</div>"
      ],
      "text/plain": [
       "            dt  finish_order lastweek_day  lastweek_value       w2w  \\\n",
       "38  2019-06-20       20156.1   2019-06-13         19722.1  0.022006   \n",
       "39  2019-06-21       21226.2   2019-06-14         18825.6  0.127518   \n",
       "40  2019-06-22       13526.1   2019-06-15         13063.6  0.035404   \n",
       "41  2019-06-23       12236.4   2019-06-16         12083.1  0.012687   \n",
       "42  2019-06-24       19129.9   2019-06-17         19051.3  0.004126   \n",
       "43  2019-06-25       18844.7   2019-06-18         19698.5 -0.043343   \n",
       "44  2019-06-26       19476.0   2019-06-19         19395.9  0.004130   \n",
       "45  2019-06-27       20942.8   2019-06-20         20156.1  0.039030   \n",
       "46  2019-06-28       26443.9   2019-06-21         21226.2  0.245814   \n",
       "47  2019-06-29       13687.8   2019-06-22         13526.1  0.011955   \n",
       "48  2019-06-30       12543.9   2019-06-23         12236.4  0.025130   \n",
       "49  2019-07-01       18030.2   2019-06-24         19129.9 -0.057486   \n",
       "50  2019-07-02       18201.9   2019-06-25         18844.7 -0.034110   \n",
       "51  2019-07-03       19278.2   2019-06-26         19476.0 -0.010156   \n",
       "\n",
       "    upper_range  lower_range  is_abnormal  \n",
       "38          0.1        -0.05            0  \n",
       "39          0.1        -0.05            1  \n",
       "40          0.1        -0.05            0  \n",
       "41          0.1        -0.05            0  \n",
       "42          0.1        -0.05            0  \n",
       "43          0.1        -0.05            0  \n",
       "44          0.1        -0.05            0  \n",
       "45          0.1        -0.05            0  \n",
       "46          0.1        -0.05            1  \n",
       "47          0.1        -0.05            0  \n",
       "48          0.1        -0.05            0  \n",
       "49          0.1        -0.05            1  \n",
       "50          0.1        -0.05            0  \n",
       "51          0.1        -0.05            0  "
      ]
     },
     "execution_count": 19,
     "metadata": {},
     "output_type": "execute_result"
    }
   ],
   "source": [
    "#观察6/20之后有多少异常点\n",
    "df.loc[df.dt>='2019-06-20']"
   ]
  },
  {
   "cell_type": "code",
   "execution_count": 20,
   "metadata": {},
   "outputs": [
    {
     "data": {
      "image/png": "[encoded data removed]",
      "text/plain": [
       "<Figure size 432x288 with 1 Axes>"
      ]
     },
     "metadata": {
      "needs_background": "light"
     },
     "output_type": "display_data"
    }
   ],
   "source": [
    "#绘制图像查看 6/20号之后的情况\n",
    "df3 = df.loc[df.dt>='2019-06-20']\n",
    "\n",
    "xs =  [datetime.strptime(d,'%Y-%m-%d').date() for d in df3.dt]\n",
    "zs = df3.finish_order\n",
    "ys = df3.lastweek_value\n",
    "plt.gca().xaxis.set_major_formatter(mdates.DateFormatter('%Y-%m-%d'))\n",
    "plt.gca().xaxis.set_major_locator(mdates.DayLocator())\n",
    "# Plot\n",
    "plt.plot(xs, zs)\n",
    "plt.plot(xs,ys)\n",
    "plt.xticks(pd.date_range('2019-06-20','2019-07-03',freq = '3D'))\n",
    "plt.gcf().autofmt_xdate() # 自动旋转日期标记\n",
    "plt.show()\n"
   ]
  },
  {
   "cell_type": "code",
   "execution_count": 21,
   "metadata": {},
   "outputs": [
    {
     "data": {
      "image/png": "[encoded data removed]",
      "text/plain": [
       "<Figure size 432x288 with 1 Axes>"
      ]
     },
     "metadata": {
      "needs_background": "light"
     },
     "output_type": "display_data"
    }
   ],
   "source": [
    "df3 = df.loc[df.dt>='2019-06-20']\n",
    "\n",
    "xs =  [datetime.strptime(d,'%Y-%m-%d').date() for d in df3.dt]\n",
    "zs = df3.w2w\n",
    "\n",
    "us = df3.upper_range\n",
    "ls = df3.lower_range\n",
    "\n",
    " \n",
    "plt.gca().xaxis.set_major_formatter(mdates.DateFormatter('%Y-%m-%d'))\n",
    "plt.gca().xaxis.set_major_locator(mdates.DayLocator())\n",
    "# Plot\n",
    "plt.plot(xs, zs)\n",
    "plt.plot(xs, us,'r.')\n",
    "plt.plot(xs, ls,'g.')\n",
    "\n",
    "plt.xticks(pd.date_range('2019-06-20','2019-07-03',freq = '3D'))\n",
    "plt.gcf().autofmt_xdate() # 自动旋转日期标记\n",
    "plt.show()\n"
   ]
  },
  {
   "cell_type": "markdown",
   "metadata": {},
   "source": [
    "# 箱线图异常值检测"
   ]
  },
  {
   "cell_type": "code",
   "execution_count": 22,
   "metadata": {},
   "outputs": [
    {
     "data": {
      "text/html": [
       "<div>\n",
       "<style scoped>\n",
       "    .dataframe tbody tr th:only-of-type {\n",
       "        vertical-align: middle;\n",
       "    }\n",
       "\n",
       "    .dataframe tbody tr th {\n",
       "        vertical-align: top;\n",
       "    }\n",
       "\n",
       "    .dataframe thead th {\n",
       "        text-align: right;\n",
       "    }\n",
       "</style>\n",
       "<table border=\"1\" class=\"dataframe\">\n",
       "  <thead>\n",
       "    <tr style=\"text-align: right;\">\n",
       "      <th></th>\n",
       "      <th>dt</th>\n",
       "      <th>finish_order</th>\n",
       "      <th>lastweek_day</th>\n",
       "      <th>lastweek_value</th>\n",
       "      <th>w2w</th>\n",
       "      <th>upper_range</th>\n",
       "      <th>lower_range</th>\n",
       "      <th>is_abnormal</th>\n",
       "    </tr>\n",
       "  </thead>\n",
       "  <tbody>\n",
       "    <tr>\n",
       "      <th>0</th>\n",
       "      <td>2019-05-13</td>\n",
       "      <td>15315.7</td>\n",
       "      <td>2019-05-06</td>\n",
       "      <td>-1.0</td>\n",
       "      <td>-15316.7</td>\n",
       "      <td>0.1</td>\n",
       "      <td>-0.05</td>\n",
       "      <td>1</td>\n",
       "    </tr>\n",
       "    <tr>\n",
       "      <th>1</th>\n",
       "      <td>2019-05-14</td>\n",
       "      <td>15190.4</td>\n",
       "      <td>2019-05-07</td>\n",
       "      <td>-1.0</td>\n",
       "      <td>-15191.4</td>\n",
       "      <td>0.1</td>\n",
       "      <td>-0.05</td>\n",
       "      <td>1</td>\n",
       "    </tr>\n",
       "    <tr>\n",
       "      <th>2</th>\n",
       "      <td>2019-05-15</td>\n",
       "      <td>15643.4</td>\n",
       "      <td>2019-05-08</td>\n",
       "      <td>-1.0</td>\n",
       "      <td>-15644.4</td>\n",
       "      <td>0.1</td>\n",
       "      <td>-0.05</td>\n",
       "      <td>1</td>\n",
       "    </tr>\n",
       "    <tr>\n",
       "      <th>3</th>\n",
       "      <td>2019-05-16</td>\n",
       "      <td>17297.0</td>\n",
       "      <td>2019-05-09</td>\n",
       "      <td>-1.0</td>\n",
       "      <td>-17298.0</td>\n",
       "      <td>0.1</td>\n",
       "      <td>-0.05</td>\n",
       "      <td>1</td>\n",
       "    </tr>\n",
       "    <tr>\n",
       "      <th>4</th>\n",
       "      <td>2019-05-17</td>\n",
       "      <td>18837.5</td>\n",
       "      <td>2019-05-10</td>\n",
       "      <td>-1.0</td>\n",
       "      <td>-18838.5</td>\n",
       "      <td>0.1</td>\n",
       "      <td>-0.05</td>\n",
       "      <td>1</td>\n",
       "    </tr>\n",
       "  </tbody>\n",
       "</table>\n",
       "</div>"
      ],
      "text/plain": [
       "           dt  finish_order lastweek_day  lastweek_value      w2w  \\\n",
       "0  2019-05-13       15315.7   2019-05-06            -1.0 -15316.7   \n",
       "1  2019-05-14       15190.4   2019-05-07            -1.0 -15191.4   \n",
       "2  2019-05-15       15643.4   2019-05-08            -1.0 -15644.4   \n",
       "3  2019-05-16       17297.0   2019-05-09            -1.0 -17298.0   \n",
       "4  2019-05-17       18837.5   2019-05-10            -1.0 -18838.5   \n",
       "\n",
       "   upper_range  lower_range  is_abnormal  \n",
       "0          0.1        -0.05            1  \n",
       "1          0.1        -0.05            1  \n",
       "2          0.1        -0.05            1  \n",
       "3          0.1        -0.05            1  \n",
       "4          0.1        -0.05            1  "
      ]
     },
     "execution_count": 22,
     "metadata": {},
     "output_type": "execute_result"
    }
   ],
   "source": [
    "df.head()"
   ]
  },
  {
   "cell_type": "code",
   "execution_count": 23,
   "metadata": {},
   "outputs": [
    {
     "data": {
      "image/png": "[encoded data removed]",
      "text/plain": [
       "<Figure size 432x288 with 1 Axes>"
      ]
     },
     "metadata": {
      "needs_background": "light"
     },
     "output_type": "display_data"
    }
   ],
   "source": [
    "xs =  [datetime.strptime(d,'%Y-%m-%d').date() for d in df.dt]\n",
    "zs = df.finish_order\n",
    "\n",
    "plt.gca().xaxis.set_major_formatter(mdates.DateFormatter('%Y-%m-%d'))\n",
    "plt.gca().xaxis.set_major_locator(mdates.DayLocator())\n",
    "# Plot\n",
    "#plt.plot(xs, ys)\n",
    "plt.plot(xs,zs)\n",
    "plt.xticks(pd.date_range('2019-05-13','2019-07-03',freq = '7D'))\n",
    "plt.gcf().autofmt_xdate() # 自动旋转日期标记\n",
    "plt.show()"
   ]
  },
  {
   "cell_type": "code",
   "execution_count": 24,
   "metadata": {},
   "outputs": [],
   "source": [
    "#工作日与周末差异较大，需要分别处理\n",
    "\n",
    "df['weekday'] = [datetime.strptime(d,'%Y-%m-%d').weekday()+1 for d in  df.dt]\n",
    "\n",
    "df['is_workday'] = 1 \n",
    "df.loc[df.weekday>=6,'is_workday'] = 0"
   ]
  },
  {
   "cell_type": "code",
   "execution_count": 25,
   "metadata": {},
   "outputs": [
    {
     "data": {
      "text/plain": [
       "<matplotlib.axes._subplots.AxesSubplot at 0x1a1f6f8da0>"
      ]
     },
     "execution_count": 25,
     "metadata": {},
     "output_type": "execute_result"
    },
    {
     "data": {
      "image/png": "[encoded data removed]",
      "text/plain": [
       "<Figure size 432x288 with 1 Axes>"
      ]
     },
     "metadata": {
      "needs_background": "light"
     },
     "output_type": "display_data"
    }
   ],
   "source": [
    "#仅绘制工作日，以下对工作日做异常值检测\n",
    "\n",
    "df.loc[(df.is_workday==1)].finish_order.plot()"
   ]
  },
  {
   "cell_type": "code",
   "execution_count": 26,
   "metadata": {},
   "outputs": [],
   "source": [
    "Q1 = np.percentile(df.loc[(df.is_workday==1)].finish_order,25)\n",
    "Q3 = np.percentile(df.loc[(df.is_workday==1)].finish_order,75)"
   ]
  },
  {
   "cell_type": "code",
   "execution_count": 27,
   "metadata": {},
   "outputs": [
    {
     "data": {
      "text/plain": [
       "(17029.725, 19241.125)"
      ]
     },
     "execution_count": 27,
     "metadata": {},
     "output_type": "execute_result"
    }
   ],
   "source": [
    "Q1,Q3"
   ]
  },
  {
   "cell_type": "code",
   "execution_count": 28,
   "metadata": {},
   "outputs": [],
   "source": [
    "IQR = Q3 - Q1"
   ]
  },
  {
   "cell_type": "code",
   "execution_count": 29,
   "metadata": {},
   "outputs": [
    {
     "data": {
      "text/plain": [
       "2211.4000000000015"
      ]
     },
     "execution_count": 29,
     "metadata": {},
     "output_type": "execute_result"
    }
   ],
   "source": [
    "IQR"
   ]
  },
  {
   "cell_type": "code",
   "execution_count": 30,
   "metadata": {},
   "outputs": [],
   "source": [
    "Upper = Q3 + 1.5* IQR\n",
    "Lower = Q1 - 1.5* IQR"
   ]
  },
  {
   "cell_type": "code",
   "execution_count": 31,
   "metadata": {},
   "outputs": [
    {
     "data": {
      "text/plain": [
       "(22558.225000000002, 13712.624999999996)"
      ]
     },
     "execution_count": 31,
     "metadata": {},
     "output_type": "execute_result"
    }
   ],
   "source": [
    "#样本区间非常宽，仅能识别极端异常点\n",
    "Upper,Lower"
   ]
  },
  {
   "cell_type": "code",
   "execution_count": 32,
   "metadata": {
    "scrolled": true
   },
   "outputs": [
    {
     "data": {
      "text/plain": [
       "<matplotlib.axes._subplots.AxesSubplot at 0x1a1f7fa240>"
      ]
     },
     "execution_count": 32,
     "metadata": {},
     "output_type": "execute_result"
    },
    {
     "data": {
      "image/png": "[encoded data removed]",
      "text/plain": [
       "<Figure size 432x288 with 1 Axes>"
      ]
     },
     "metadata": {
      "needs_background": "light"
     },
     "output_type": "display_data"
    }
   ],
   "source": [
    "#绘图观察\n",
    "sns.boxplot(df.loc[(df.is_workday==1)].finish_order)"
   ]
  },
  {
   "cell_type": "markdown",
   "metadata": {},
   "source": [
    "# 标准差判定异常值"
   ]
  },
  {
   "cell_type": "code",
   "execution_count": 39,
   "metadata": {},
   "outputs": [
    {
     "data": {
      "text/plain": [
       "<matplotlib.axes._subplots.AxesSubplot at 0x1a1fa4a470>"
      ]
     },
     "execution_count": 39,
     "metadata": {},
     "output_type": "execute_result"
    },
    {
     "data": {
      "image/png": "[encoded data removed]",
      "text/plain": [
       "<Figure size 432x288 with 1 Axes>"
      ]
     },
     "metadata": {
      "needs_background": "light"
     },
     "output_type": "display_data"
    }
   ],
   "source": [
    "#绘制直方图观察，数据较为接近正态分布\n",
    "df.loc[(df.is_workday==1)].finish_order.hist(bins=20)"
   ]
  },
  {
   "cell_type": "code",
   "execution_count": 40,
   "metadata": {},
   "outputs": [
    {
     "data": {
      "text/plain": [
       "(18342.326315789473, 2029.360405656304)"
      ]
     },
     "execution_count": 40,
     "metadata": {},
     "output_type": "execute_result"
    }
   ],
   "source": [
    "#计算均值与标准差\n",
    "mean = df.loc[(df.is_workday==1)].finish_order.mean()\n",
    "std = df.loc[(df.is_workday==1)].finish_order.std()\n",
    "\n",
    "mean,std"
   ]
  },
  {
   "cell_type": "code",
   "execution_count": 44,
   "metadata": {},
   "outputs": [
    {
     "data": {
      "text/plain": [
       "(24430.407532758385, 12254.24509882056)"
      ]
     },
     "execution_count": 44,
     "metadata": {},
     "output_type": "execute_result"
    }
   ],
   "source": [
    "#仅能识别极端异常值\n",
    "\n",
    "upper_3std = mean + 3*std\n",
    "lower_3std = mean - 3*std\n",
    "\n",
    "upper_3std, lower_3std"
   ]
  },
  {
   "cell_type": "code",
   "execution_count": 43,
   "metadata": {},
   "outputs": [
    {
     "data": {
      "text/plain": [
       "(22401.04712710208, 14283.605504476865)"
      ]
     },
     "execution_count": 43,
     "metadata": {},
     "output_type": "execute_result"
    }
   ],
   "source": [
    "\n",
    "upper_2std = mean + 2*std\n",
    "lower_2std = mean - 2*std\n",
    "\n",
    "upper_2std, lower_2std"
   ]
  },
  {
   "cell_type": "code",
   "execution_count": 45,
   "metadata": {},
   "outputs": [
    {
     "data": {
      "text/plain": [
       "(18123.364864864863, 1536.2997282822519)"
      ]
     },
     "execution_count": 45,
     "metadata": {},
     "output_type": "execute_result"
    }
   ],
   "source": [
    "#计算均值与标准差\n",
    "mean = df.loc[(df.is_workday==1)&(df.finish_order<=25000)].finish_order.mean()\n",
    "std = df.loc[(df.is_workday==1)&(df.finish_order<=25000)].finish_order.std()\n",
    "\n",
    "mean,std"
   ]
  },
  {
   "cell_type": "code",
   "execution_count": 46,
   "metadata": {},
   "outputs": [
    {
     "data": {
      "text/plain": [
       "(21195.96432142937, 15050.76540830036)"
      ]
     },
     "execution_count": 46,
     "metadata": {},
     "output_type": "execute_result"
    }
   ],
   "source": [
    "\n",
    "upper_2std = mean + 2*std\n",
    "lower_2std = mean - 2*std\n",
    "\n",
    "upper_2std, lower_2std"
   ]
  },
  {
   "cell_type": "code",
   "execution_count": 47,
   "metadata": {},
   "outputs": [
    {
     "data": {
      "text/plain": [
       "21226.2"
      ]
     },
     "execution_count": 47,
     "metadata": {},
     "output_type": "execute_result"
    }
   ],
   "source": [
    "df.loc[(df.is_workday==1)&(df.finish_order<=25000)].finish_order.max()"
   ]
  },
  {
   "cell_type": "code",
   "execution_count": null,
   "metadata": {},
   "outputs": [],
   "source": []
  }
 ],
 "metadata": {
  "kernelspec": {
   "display_name": "Python 3",
   "language": "python",
   "name": "python3"
  },
  "language_info": {
   "codemirror_mode": {
    "name": "ipython",
    "version": 3
   },
   "file_extension": ".py",
   "mimetype": "text/x-python",
   "name": "python",
   "nbconvert_exporter": "python",
   "pygments_lexer": "ipython3",
   "version": "3.7.1"
  }
 },
 "nbformat": 4,
 "nbformat_minor": 2
}
